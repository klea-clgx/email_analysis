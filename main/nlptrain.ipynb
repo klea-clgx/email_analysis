{
 "cells": [
  {
   "cell_type": "code",
   "execution_count": 39,
   "metadata": {},
   "outputs": [],
   "source": [
    "import nltk\n",
    "import pandas as pd\n",
    "from nltk.sentiment import SentimentIntensityAnalyzer\n",
    "from sklearn.feature_extraction.text import TfidfVectorizer\n",
    "from sklearn.metrics.pairwise import cosine_similarity\n",
    "import spacy\n",
    "from sklearn.feature_extraction.text import TfidfVectorizer\n",
    "from sklearn.svm import LinearSVC\n",
    "from sklearn.model_selection import train_test_split\n",
    "from sklearn.svm import LinearSVC\n",
    "from sklearn.metrics import accuracy_score"
   ]
  },
  {
   "cell_type": "code",
   "execution_count": 46,
   "metadata": {},
   "outputs": [],
   "source": [
    "# Load the CSV file\n",
    "data = pd.read_csv('reports.csv')\n",
    "\n",
    "# Extract the report titles from the third column (ReportName)\n",
    "report_titles = data.iloc[:, 2].tolist()\n",
    "\n",
    "# Define the category labels\n",
    "category_labels = data.iloc[:, 2].tolist()\n",
    "\n",
    "# Split the data into training and testing sets\n",
    "X_train, X_test, y_train, y_test = train_test_split(report_titles, category_labels, test_size=0.2, random_state=42)\n",
    "\n",
    "def classify_report(new_report):\n",
    "    # Initialize spaCy NER model\n",
    "    nlp = spacy.load(\"en_core_web_sm\")\n",
    "\n",
    "    # Extract key phrases using Named Entity Recognition (NER)\n",
    "    doc = nlp(new_report)\n",
    "    key_phrases = [ent.text for ent in doc.ents]\n",
    "\n",
    "    # Prepare training data for text classification\n",
    "    corpus = X_train\n",
    "    labels = y_train\n",
    "\n",
    "    # Vectorize the corpus and new report\n",
    "    vectorizer = TfidfVectorizer()\n",
    "    X_train_vec = vectorizer.fit_transform(corpus)\n",
    "    X_new_vec = vectorizer.transform([new_report])\n",
    "\n",
    "    # Train a LinearSVC classifier\n",
    "    classifier = LinearSVC()\n",
    "    classifier.fit(X_train_vec, labels)\n",
    "\n",
    "    # Predict the category of the new report\n",
    "    predicted_category = classifier.predict(X_new_vec)[0]\n",
    "\n",
    "    return predicted_category, key_phrases\n",
    "\n",
    "\n",
    "# # Evaluate the model on the test set\n",
    "# y_pred = [classify_report(report)[0] for report in X_test]\n",
    "# accuracy = accuracy_score(y_test, y_pred)\n",
    "# print(\"Accuracy Score:\", accuracy)\n"
   ]
  },
  {
   "cell_type": "code",
   "execution_count": 47,
   "metadata": {},
   "outputs": [
    {
     "name": "stdout",
     "output_type": "stream",
     "text": [
      "Predicted Category: Appraisal Invoice Tracking\n",
      "Key Phrases: ['Appraisal Invoice']\n"
     ]
    }
   ],
   "source": [
    "# Test the code\n",
    "new_report = \"Appraisal Invoice\"\n",
    "category, key_phrases = classify_report(new_report)\n",
    "print(\"Predicted Category:\", category)\n",
    "print(\"Key Phrases:\", key_phrases)\n"
   ]
  },
  {
   "cell_type": "code",
   "execution_count": null,
   "metadata": {},
   "outputs": [],
   "source": []
  }
 ],
 "metadata": {
  "kernelspec": {
   "display_name": "Python 3",
   "language": "python",
   "name": "python3"
  },
  "language_info": {
   "codemirror_mode": {
    "name": "ipython",
    "version": 3
   },
   "file_extension": ".py",
   "mimetype": "text/x-python",
   "name": "python",
   "nbconvert_exporter": "python",
   "pygments_lexer": "ipython3",
   "version": "3.11.4"
  },
  "orig_nbformat": 4
 },
 "nbformat": 4,
 "nbformat_minor": 2
}
